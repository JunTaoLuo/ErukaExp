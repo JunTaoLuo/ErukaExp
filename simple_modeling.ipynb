{
 "cells": [
  {
   "cell_type": "markdown",
   "metadata": {},
   "source": [
    "## Initial modeling experiments"
   ]
  },
  {
   "cell_type": "code",
   "execution_count": 3,
   "metadata": {},
   "outputs": [],
   "source": [
    "# Setup\n",
    "import pandas as pd\n",
    "from sqlalchemy import create_engine, text\n",
    "import yaml\n",
    "import seaborn as sns\n",
    "import matplotlib.pyplot as plt\n",
    "import statsmodels.api as sm\n",
    "import statsmodels.formula.api as smf\n",
    "from lazypredict.Supervised import LazyRegressor\n",
    "from sklearn.model_selection import train_test_split\n",
    "from sklearn.preprocessing import StandardScaler\n",
    "\n",
    "\n",
    "with open('database.yaml', 'r') as f:\n",
    "    db_params = yaml.safe_load(f)\n",
    "\n",
    "engine = create_engine('postgresql://{user}:{password}@{host}:{port}/{dbname}'.format(\n",
    "  host=db_params['host'],\n",
    "  port=db_params['port'],\n",
    "  dbname=db_params['db'],\n",
    "  user=db_params['user'],\n",
    "  password=db_params['pass']    \n",
    "))"
   ]
  },
  {
   "cell_type": "code",
   "execution_count": 24,
   "metadata": {},
   "outputs": [
    {
     "data": {
      "text/html": [
       "<div>\n",
       "<style scoped>\n",
       "    .dataframe tbody tr th:only-of-type {\n",
       "        vertical-align: middle;\n",
       "    }\n",
       "\n",
       "    .dataframe tbody tr th {\n",
       "        vertical-align: top;\n",
       "    }\n",
       "\n",
       "    .dataframe thead th {\n",
       "        text-align: right;\n",
       "    }\n",
       "</style>\n",
       "<table border=\"1\" class=\"dataframe\">\n",
       "  <thead>\n",
       "    <tr style=\"text-align: right;\">\n",
       "      <th></th>\n",
       "      <th>parcelid</th>\n",
       "      <th>initial_building_value</th>\n",
       "      <th>attic_sqft</th>\n",
       "      <th>bsmt_sqft</th>\n",
       "      <th>live_sqft</th>\n",
       "      <th>sqft_flr1</th>\n",
       "      <th>sqft_flr2</th>\n",
       "      <th>sqft_flrh</th>\n",
       "      <th>story_ht</th>\n",
       "      <th>year_built</th>\n",
       "      <th>...</th>\n",
       "      <th>full_bath</th>\n",
       "      <th>half_bath</th>\n",
       "      <th>fireplaces</th>\n",
       "      <th>garage_type</th>\n",
       "      <th>garage_capacity</th>\n",
       "      <th>finished_sq_ft</th>\n",
       "      <th>total_finish_area</th>\n",
       "      <th>first_floor_area</th>\n",
       "      <th>half_floor_area</th>\n",
       "      <th>finished_basement</th>\n",
       "    </tr>\n",
       "  </thead>\n",
       "  <tbody>\n",
       "    <tr>\n",
       "      <th>0</th>\n",
       "      <td>0010001000500</td>\n",
       "      <td>NaN</td>\n",
       "      <td>0</td>\n",
       "      <td>1135</td>\n",
       "      <td>1176</td>\n",
       "      <td>1176</td>\n",
       "      <td>0</td>\n",
       "      <td>0</td>\n",
       "      <td>1.00</td>\n",
       "      <td>1928</td>\n",
       "      <td>...</td>\n",
       "      <td>1.0</td>\n",
       "      <td>0.0</td>\n",
       "      <td>1.0</td>\n",
       "      <td>Detached-001-Frame Construction</td>\n",
       "      <td>440</td>\n",
       "      <td>1176.0</td>\n",
       "      <td>1176.0</td>\n",
       "      <td>1176.0</td>\n",
       "      <td>0.0</td>\n",
       "      <td>0.0</td>\n",
       "    </tr>\n",
       "    <tr>\n",
       "      <th>1</th>\n",
       "      <td>0370001049000</td>\n",
       "      <td>NaN</td>\n",
       "      <td>0</td>\n",
       "      <td>924</td>\n",
       "      <td>1593</td>\n",
       "      <td>969</td>\n",
       "      <td>624</td>\n",
       "      <td>624</td>\n",
       "      <td>1.50</td>\n",
       "      <td>1925</td>\n",
       "      <td>...</td>\n",
       "      <td>2.0</td>\n",
       "      <td>0.0</td>\n",
       "      <td>1.0</td>\n",
       "      <td>Detached-001-Frame Construction</td>\n",
       "      <td>216</td>\n",
       "      <td>1593.0</td>\n",
       "      <td>1593.0</td>\n",
       "      <td>969.0</td>\n",
       "      <td>624.0</td>\n",
       "      <td>0.0</td>\n",
       "    </tr>\n",
       "    <tr>\n",
       "      <th>2</th>\n",
       "      <td>0370001049100</td>\n",
       "      <td>NaN</td>\n",
       "      <td>0</td>\n",
       "      <td>616</td>\n",
       "      <td>1188</td>\n",
       "      <td>634</td>\n",
       "      <td>554</td>\n",
       "      <td>554</td>\n",
       "      <td>1.75</td>\n",
       "      <td>1927</td>\n",
       "      <td>...</td>\n",
       "      <td>2.0</td>\n",
       "      <td>0.0</td>\n",
       "      <td>0.0</td>\n",
       "      <td>Detached-001-Frame Construction</td>\n",
       "      <td>400</td>\n",
       "      <td>634.0</td>\n",
       "      <td>1188.0</td>\n",
       "      <td>634.0</td>\n",
       "      <td>554.0</td>\n",
       "      <td>0.0</td>\n",
       "    </tr>\n",
       "    <tr>\n",
       "      <th>3</th>\n",
       "      <td>0370001049200</td>\n",
       "      <td>NaN</td>\n",
       "      <td>0</td>\n",
       "      <td>616</td>\n",
       "      <td>1190</td>\n",
       "      <td>636</td>\n",
       "      <td>554</td>\n",
       "      <td>0</td>\n",
       "      <td>1.75</td>\n",
       "      <td>1926</td>\n",
       "      <td>...</td>\n",
       "      <td>1.0</td>\n",
       "      <td>1.0</td>\n",
       "      <td>0.0</td>\n",
       "      <td>None</td>\n",
       "      <td>0</td>\n",
       "      <td>1190.0</td>\n",
       "      <td>1190.0</td>\n",
       "      <td>636.0</td>\n",
       "      <td>554.0</td>\n",
       "      <td>0.0</td>\n",
       "    </tr>\n",
       "    <tr>\n",
       "      <th>4</th>\n",
       "      <td>0370001049400</td>\n",
       "      <td>NaN</td>\n",
       "      <td>0</td>\n",
       "      <td>616</td>\n",
       "      <td>1479</td>\n",
       "      <td>986</td>\n",
       "      <td>0</td>\n",
       "      <td>493</td>\n",
       "      <td>1.50</td>\n",
       "      <td>1927</td>\n",
       "      <td>...</td>\n",
       "      <td>1.0</td>\n",
       "      <td>1.0</td>\n",
       "      <td>0.0</td>\n",
       "      <td>Detached-001-Frame Construction</td>\n",
       "      <td>216</td>\n",
       "      <td>986.0</td>\n",
       "      <td>1479.0</td>\n",
       "      <td>986.0</td>\n",
       "      <td>0.0</td>\n",
       "      <td>0.0</td>\n",
       "    </tr>\n",
       "  </tbody>\n",
       "</table>\n",
       "<p>5 rows × 34 columns</p>\n",
       "</div>"
      ],
      "text/plain": [
       "        parcelid  initial_building_value  attic_sqft  bsmt_sqft  live_sqft  \\\n",
       "0  0010001000500                     NaN           0       1135       1176   \n",
       "1  0370001049000                     NaN           0        924       1593   \n",
       "2  0370001049100                     NaN           0        616       1188   \n",
       "3  0370001049200                     NaN           0        616       1190   \n",
       "4  0370001049400                     NaN           0        616       1479   \n",
       "\n",
       "   sqft_flr1  sqft_flr2  sqft_flrh  story_ht  year_built  ...  full_bath  \\\n",
       "0       1176          0          0      1.00        1928  ...        1.0   \n",
       "1        969        624        624      1.50        1925  ...        2.0   \n",
       "2        634        554        554      1.75        1927  ...        2.0   \n",
       "3        636        554          0      1.75        1926  ...        1.0   \n",
       "4        986          0        493      1.50        1927  ...        1.0   \n",
       "\n",
       "  half_bath  fireplaces                      garage_type  garage_capacity  \\\n",
       "0       0.0         1.0  Detached-001-Frame Construction              440   \n",
       "1       0.0         1.0  Detached-001-Frame Construction              216   \n",
       "2       0.0         0.0  Detached-001-Frame Construction              400   \n",
       "3       1.0         0.0                             None                0   \n",
       "4       1.0         0.0  Detached-001-Frame Construction              216   \n",
       "\n",
       "   finished_sq_ft  total_finish_area first_floor_area half_floor_area  \\\n",
       "0          1176.0             1176.0           1176.0             0.0   \n",
       "1          1593.0             1593.0            969.0           624.0   \n",
       "2           634.0             1188.0            634.0           554.0   \n",
       "3          1190.0             1190.0            636.0           554.0   \n",
       "4           986.0             1479.0            986.0             0.0   \n",
       "\n",
       "  finished_basement  \n",
       "0               0.0  \n",
       "1               0.0  \n",
       "2               0.0  \n",
       "3               0.0  \n",
       "4               0.0  \n",
       "\n",
       "[5 rows x 34 columns]"
      ]
     },
     "execution_count": 24,
     "metadata": {},
     "output_type": "execute_result"
    }
   ],
   "source": [
    "# Read in data\n",
    "df = pd.read_sql('SELECT * FROM samples.labels', engine)\n",
    "df.drop(['insert_time'], axis=1, inplace=True) # drop unnecessary columns\n",
    "df.head()"
   ]
  },
  {
   "cell_type": "code",
   "execution_count": 12,
   "metadata": {},
   "outputs": [
    {
     "name": "stdout",
     "output_type": "stream",
     "text": [
      "There are 158 labeled observations\n"
     ]
    }
   ],
   "source": [
    "# How many labeled points?\n",
    "df_labeled = df[(df['initial_building_value'].isna() == False)]\n",
    "print(f\"There are {len(df_labeled)} labeled observations\")"
   ]
  },
  {
   "cell_type": "code",
   "execution_count": 25,
   "metadata": {},
   "outputs": [
    {
     "data": {
      "text/plain": [
       "sale_price     0.088608\n",
       "basement       0.012658\n",
       "garage_type    0.512658\n",
       "dtype: float64"
      ]
     },
     "execution_count": 25,
     "metadata": {},
     "output_type": "execute_result"
    }
   ],
   "source": [
    "# For variables that have missing values, what is the % missing?\n",
    "null_perc = df_labeled.isna().mean()\n",
    "null_perc = null_perc[null_perc > 0]\n",
    "null_perc"
   ]
  },
  {
   "cell_type": "markdown",
   "metadata": {},
   "source": [
    "### Distribution of outcome variable"
   ]
  },
  {
   "cell_type": "code",
   "execution_count": 13,
   "metadata": {},
   "outputs": [
    {
     "name": "stdout",
     "output_type": "stream",
     "text": [
      "Distribution of initial building value\n",
      "count      158.000000\n",
      "mean      3911.645570\n",
      "std       4897.876293\n",
      "min        340.000000\n",
      "25%       2002.500000\n",
      "50%       3025.000000\n",
      "75%       4547.500000\n",
      "max      56990.000000\n",
      "Name: initial_building_value, dtype: float64\n"
     ]
    },
    {
     "data": {
      "text/plain": [
       "[Text(0.5, 1.0, 'Histogram of initial_building_value')]"
      ]
     },
     "execution_count": 13,
     "metadata": {},
     "output_type": "execute_result"
    },
    {
     "data": {
      "image/png": "[encoded data removed]",
      "text/plain": [
       "<Figure size 1000x600 with 1 Axes>"
      ]
     },
     "metadata": {},
     "output_type": "display_data"
    }
   ],
   "source": [
    "# Distribution of the outcome variable\n",
    "print('Distribution of initial building value')\n",
    "print(df_labeled['initial_building_value'].describe())\n",
    "\n",
    "plt.figure(figsize=(10, 6))\n",
    "sns.histplot(df_labeled, x='initial_building_value').set(title='Histogram of initial_building_value')"
   ]
  },
  {
   "cell_type": "code",
   "execution_count": 15,
   "metadata": {},
   "outputs": [
    {
     "data": {
      "text/plain": [
       "year_built               -0.077327\n",
       "total_sales_records      -0.075482\n",
       "sale_price               -0.015791\n",
       "number_of_parcels        -0.014130\n",
       "sqft_flrh                 0.000966\n",
       "appraisal_area            0.017435\n",
       "prop_class_code           0.023256\n",
       "attic_sqft                0.138502\n",
       "story_ht                  0.193556\n",
       "half_bath                 0.216908\n",
       "sqft_flr2                 0.423983\n",
       "half_floor_area           0.423983\n",
       "total_rooms               0.445041\n",
       "garage_capacity           0.448783\n",
       "finished_basement         0.448833\n",
       "full_bath                 0.453174\n",
       "fireplaces                0.491224\n",
       "live_sqft                 0.593170\n",
       "total_finish_area         0.593170\n",
       "first_floor_area          0.724287\n",
       "sqft_flr1                 0.724287\n",
       "bsmt_sqft                 0.740405\n",
       "finished_sq_ft            0.782004\n",
       "initial_building_value    1.000000\n",
       "dtype: float64"
      ]
     },
     "execution_count": 15,
     "metadata": {},
     "output_type": "execute_result"
    }
   ],
   "source": [
    "## Correlations with other numeric variables\n",
    "df_labeled.corrwith(df['initial_building_value'], numeric_only=True).sort_values()"
   ]
  },
  {
   "cell_type": "code",
   "execution_count": 26,
   "metadata": {},
   "outputs": [
    {
     "data": {
      "text/html": [
       "<table class=\"simpletable\">\n",
       "<caption>OLS Regression Results</caption>\n",
       "<tr>\n",
       "  <th>Dep. Variable:</th>    <td>initial_building_value</td> <th>  R-squared:         </th> <td>   0.711</td>\n",
       "</tr>\n",
       "<tr>\n",
       "  <th>Model:</th>                      <td>OLS</td>          <th>  Adj. R-squared:    </th> <td>   0.705</td>\n",
       "</tr>\n",
       "<tr>\n",
       "  <th>Method:</th>                <td>Least Squares</td>     <th>  F-statistic:       </th> <td>   126.3</td>\n",
       "</tr>\n",
       "<tr>\n",
       "  <th>Date:</th>                <td>Wed, 30 Nov 2022</td>    <th>  Prob (F-statistic):</th> <td>2.62e-41</td>\n",
       "</tr>\n",
       "<tr>\n",
       "  <th>Time:</th>                    <td>23:22:41</td>        <th>  Log-Likelihood:    </th> <td> -1468.1</td>\n",
       "</tr>\n",
       "<tr>\n",
       "  <th>No. Observations:</th>         <td>   158</td>         <th>  AIC:               </th> <td>   2944.</td>\n",
       "</tr>\n",
       "<tr>\n",
       "  <th>Df Residuals:</th>             <td>   154</td>         <th>  BIC:               </th> <td>   2956.</td>\n",
       "</tr>\n",
       "<tr>\n",
       "  <th>Df Model:</th>                 <td>     3</td>         <th>                     </th>     <td> </td>   \n",
       "</tr>\n",
       "<tr>\n",
       "  <th>Covariance Type:</th>         <td>nonrobust</td>       <th>                     </th>     <td> </td>   \n",
       "</tr>\n",
       "</table>\n",
       "<table class=\"simpletable\">\n",
       "<tr>\n",
       "         <td></td>           <th>coef</th>     <th>std err</th>      <th>t</th>      <th>P>|t|</th>  <th>[0.025</th>    <th>0.975]</th>  \n",
       "</tr>\n",
       "<tr>\n",
       "  <th>Intercept</th>      <td>-3.873e+04</td> <td> 2.64e+04</td> <td>   -1.467</td> <td> 0.144</td> <td>-9.09e+04</td> <td> 1.34e+04</td>\n",
       "</tr>\n",
       "<tr>\n",
       "  <th>year_built</th>     <td>   18.5834</td> <td>   13.824</td> <td>    1.344</td> <td> 0.181</td> <td>   -8.727</td> <td>   45.893</td>\n",
       "</tr>\n",
       "<tr>\n",
       "  <th>finished_sq_ft</th> <td>    2.4153</td> <td>    0.263</td> <td>    9.198</td> <td> 0.000</td> <td>    1.897</td> <td>    2.934</td>\n",
       "</tr>\n",
       "<tr>\n",
       "  <th>bsmt_sqft</th>      <td>    4.4425</td> <td>    0.654</td> <td>    6.790</td> <td> 0.000</td> <td>    3.150</td> <td>    5.735</td>\n",
       "</tr>\n",
       "</table>\n",
       "<table class=\"simpletable\">\n",
       "<tr>\n",
       "  <th>Omnibus:</th>       <td>83.264</td> <th>  Durbin-Watson:     </th> <td>   1.994</td>\n",
       "</tr>\n",
       "<tr>\n",
       "  <th>Prob(Omnibus):</th> <td> 0.000</td> <th>  Jarque-Bera (JB):  </th> <td>1627.385</td>\n",
       "</tr>\n",
       "<tr>\n",
       "  <th>Skew:</th>          <td> 1.360</td> <th>  Prob(JB):          </th> <td>    0.00</td>\n",
       "</tr>\n",
       "<tr>\n",
       "  <th>Kurtosis:</th>      <td>18.485</td> <th>  Cond. No.          </th> <td>3.23e+05</td>\n",
       "</tr>\n",
       "</table><br/><br/>Notes:<br/>[1] Standard Errors assume that the covariance matrix of the errors is correctly specified.<br/>[2] The condition number is large, 3.23e+05. This might indicate that there are<br/>strong multicollinearity or other numerical problems."
      ],
      "text/plain": [
       "<class 'statsmodels.iolib.summary.Summary'>\n",
       "\"\"\"\n",
       "                              OLS Regression Results                              \n",
       "==================================================================================\n",
       "Dep. Variable:     initial_building_value   R-squared:                       0.711\n",
       "Model:                                OLS   Adj. R-squared:                  0.705\n",
       "Method:                     Least Squares   F-statistic:                     126.3\n",
       "Date:                    Wed, 30 Nov 2022   Prob (F-statistic):           2.62e-41\n",
       "Time:                            23:22:41   Log-Likelihood:                -1468.1\n",
       "No. Observations:                     158   AIC:                             2944.\n",
       "Df Residuals:                         154   BIC:                             2956.\n",
       "Df Model:                               3                                         \n",
       "Covariance Type:                nonrobust                                         \n",
       "==================================================================================\n",
       "                     coef    std err          t      P>|t|      [0.025      0.975]\n",
       "----------------------------------------------------------------------------------\n",
       "Intercept      -3.873e+04   2.64e+04     -1.467      0.144   -9.09e+04    1.34e+04\n",
       "year_built        18.5834     13.824      1.344      0.181      -8.727      45.893\n",
       "finished_sq_ft     2.4153      0.263      9.198      0.000       1.897       2.934\n",
       "bsmt_sqft          4.4425      0.654      6.790      0.000       3.150       5.735\n",
       "==============================================================================\n",
       "Omnibus:                       83.264   Durbin-Watson:                   1.994\n",
       "Prob(Omnibus):                  0.000   Jarque-Bera (JB):             1627.385\n",
       "Skew:                           1.360   Prob(JB):                         0.00\n",
       "Kurtosis:                      18.485   Cond. No.                     3.23e+05\n",
       "==============================================================================\n",
       "\n",
       "Notes:\n",
       "[1] Standard Errors assume that the covariance matrix of the errors is correctly specified.\n",
       "[2] The condition number is large, 3.23e+05. This might indicate that there are\n",
       "strong multicollinearity or other numerical problems.\n",
       "\"\"\""
      ]
     },
     "execution_count": 26,
     "metadata": {},
     "output_type": "execute_result"
    }
   ],
   "source": [
    "# Descriptive linaer regression\n",
    "reg = smf.ols('initial_building_value ~ year_built + finished_sq_ft + bsmt_sqft', df_labeled).fit()\n",
    "reg.summary()"
   ]
  },
  {
   "cell_type": "markdown",
   "metadata": {},
   "source": [
    "### Mode"
   ]
  },
  {
   "cell_type": "markdown",
   "metadata": {},
   "source": [
    "### Simple models"
   ]
  },
  {
   "cell_type": "code",
   "execution_count": null,
   "metadata": {},
   "outputs": [],
   "source": [
    "# Do a train-test split"
   ]
  }
 ],
 "metadata": {
  "kernelspec": {
   "display_name": "Python 3.10.8 ('eruka': venv)",
   "language": "python",
   "name": "python3"
  },
  "language_info": {
   "codemirror_mode": {
    "name": "ipython",
    "version": 3
   },
   "file_extension": ".py",
   "mimetype": "text/x-python",
   "name": "python",
   "nbconvert_exporter": "python",
   "pygments_lexer": "ipython3",
   "version": "3.10.8"
  },
  "orig_nbformat": 4,
  "vscode": {
   "interpreter": {
    "hash": "d83754c0dd6e1fd079fc1b8649d5d74fa6000affda6031c1d418b270a8d01a6b"
   }
  }
 },
 "nbformat": 4,
 "nbformat_minor": 2
}
