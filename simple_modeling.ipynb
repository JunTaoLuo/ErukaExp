{
 "cells": [
  {
   "cell_type": "markdown",
   "metadata": {},
   "source": [
    "### Initial modeling experiments"
   ]
  },
  {
   "cell_type": "code",
   "execution_count": 15,
   "metadata": {},
   "outputs": [],
   "source": [
    "# Setup\n",
    "import pandas as pd\n",
    "from sqlalchemy import create_engine, text\n",
    "import yaml\n",
    "import seaborn as sns\n",
    "import matplotlib.pyplot as plt\n",
    "\n",
    "# Modeling libraries\n",
    "\n",
    "\n",
    "# Connect to database using database YAML file with connection params\n",
    "with open('database.yaml', 'r') as f:\n",
    "    db_params = yaml.safe_load(f)\n",
    "\n",
    "engine = create_engine('postgresql://{user}:{password}@{host}:{port}/{dbname}'.format(\n",
    "  host=db_params['host'],\n",
    "  port=db_params['port'],\n",
    "  dbname=db_params['db'],\n",
    "  user=db_params['user'],\n",
    "  password=db_params['pass']    \n",
    "))"
   ]
  },
  {
   "cell_type": "code",
   "execution_count": 25,
   "metadata": {},
   "outputs": [],
   "source": [
    "# Read in SQL\n",
    "with open('get_analysis_data.sql', 'r') as f:\n",
    "    sql = f.read()\n",
    "\n",
    "# Get data using SQL query\n",
    "df = pd.read_sql(sql, engine)"
   ]
  },
  {
   "cell_type": "code",
   "execution_count": 26,
   "metadata": {},
   "outputs": [
    {
     "data": {
      "text/html": [
       "<div>\n",
       "<style scoped>\n",
       "    .dataframe tbody tr th:only-of-type {\n",
       "        vertical-align: middle;\n",
       "    }\n",
       "\n",
       "    .dataframe tbody tr th {\n",
       "        vertical-align: top;\n",
       "    }\n",
       "\n",
       "    .dataframe thead th {\n",
       "        text-align: right;\n",
       "    }\n",
       "</style>\n",
       "<table border=\"1\" class=\"dataframe\">\n",
       "  <thead>\n",
       "    <tr style=\"text-align: right;\">\n",
       "      <th></th>\n",
       "      <th>parcelid</th>\n",
       "      <th>year_built</th>\n",
       "      <th>attic_sqft</th>\n",
       "      <th>bsmt_sqft</th>\n",
       "      <th>live_sqft</th>\n",
       "      <th>sqft_flr1</th>\n",
       "      <th>sqft_flr2</th>\n",
       "      <th>sqft_flrh</th>\n",
       "      <th>story_ht</th>\n",
       "      <th>prop_class_code</th>\n",
       "      <th>...</th>\n",
       "      <th>fireplaces</th>\n",
       "      <th>garage_type</th>\n",
       "      <th>garage_capacity</th>\n",
       "      <th>finished_sq_ft</th>\n",
       "      <th>total_finish_area</th>\n",
       "      <th>first_floor_area</th>\n",
       "      <th>half_floor_area</th>\n",
       "      <th>finished_basement</th>\n",
       "      <th>initial_land_value</th>\n",
       "      <th>initial_building_value</th>\n",
       "    </tr>\n",
       "  </thead>\n",
       "  <tbody>\n",
       "    <tr>\n",
       "      <th>0</th>\n",
       "      <td>0500002001300</td>\n",
       "      <td>1908</td>\n",
       "      <td>0</td>\n",
       "      <td>600</td>\n",
       "      <td>1080</td>\n",
       "      <td>600</td>\n",
       "      <td>480</td>\n",
       "      <td>0</td>\n",
       "      <td>1.5</td>\n",
       "      <td>510</td>\n",
       "      <td>...</td>\n",
       "      <td>0.0</td>\n",
       "      <td>Detached-001-Frame Construction</td>\n",
       "      <td>270</td>\n",
       "      <td>600.0</td>\n",
       "      <td>1080.0</td>\n",
       "      <td>600.0</td>\n",
       "      <td>480.0</td>\n",
       "      <td>0.0</td>\n",
       "      <td>NaN</td>\n",
       "      <td>NaN</td>\n",
       "    </tr>\n",
       "    <tr>\n",
       "      <th>1</th>\n",
       "      <td>0490003017100</td>\n",
       "      <td>1911</td>\n",
       "      <td>337</td>\n",
       "      <td>702</td>\n",
       "      <td>1789</td>\n",
       "      <td>750</td>\n",
       "      <td>702</td>\n",
       "      <td>0</td>\n",
       "      <td>2.0</td>\n",
       "      <td>520</td>\n",
       "      <td>...</td>\n",
       "      <td>0.0</td>\n",
       "      <td>Detached-001-Frame Construction</td>\n",
       "      <td>324</td>\n",
       "      <td>750.0</td>\n",
       "      <td>1789.0</td>\n",
       "      <td>750.0</td>\n",
       "      <td>702.0</td>\n",
       "      <td>0.0</td>\n",
       "      <td>NaN</td>\n",
       "      <td>NaN</td>\n",
       "    </tr>\n",
       "    <tr>\n",
       "      <th>2</th>\n",
       "      <td>0490003017200</td>\n",
       "      <td>1919</td>\n",
       "      <td>320</td>\n",
       "      <td>667</td>\n",
       "      <td>1680</td>\n",
       "      <td>681</td>\n",
       "      <td>679</td>\n",
       "      <td>0</td>\n",
       "      <td>2.0</td>\n",
       "      <td>510</td>\n",
       "      <td>...</td>\n",
       "      <td>0.0</td>\n",
       "      <td>Detached-001-Frame Construction</td>\n",
       "      <td>324</td>\n",
       "      <td>681.0</td>\n",
       "      <td>1680.0</td>\n",
       "      <td>681.0</td>\n",
       "      <td>679.0</td>\n",
       "      <td>0.0</td>\n",
       "      <td>NaN</td>\n",
       "      <td>NaN</td>\n",
       "    </tr>\n",
       "    <tr>\n",
       "      <th>3</th>\n",
       "      <td>0490003017300</td>\n",
       "      <td>1916</td>\n",
       "      <td>346</td>\n",
       "      <td>720</td>\n",
       "      <td>1826</td>\n",
       "      <td>760</td>\n",
       "      <td>720</td>\n",
       "      <td>0</td>\n",
       "      <td>2.0</td>\n",
       "      <td>510</td>\n",
       "      <td>...</td>\n",
       "      <td>0.0</td>\n",
       "      <td>None</td>\n",
       "      <td>0</td>\n",
       "      <td>1826.0</td>\n",
       "      <td>1826.0</td>\n",
       "      <td>760.0</td>\n",
       "      <td>720.0</td>\n",
       "      <td>0.0</td>\n",
       "      <td>NaN</td>\n",
       "      <td>NaN</td>\n",
       "    </tr>\n",
       "    <tr>\n",
       "      <th>4</th>\n",
       "      <td>0490003017400</td>\n",
       "      <td>1909</td>\n",
       "      <td>0</td>\n",
       "      <td>792</td>\n",
       "      <td>1496</td>\n",
       "      <td>792</td>\n",
       "      <td>704</td>\n",
       "      <td>0</td>\n",
       "      <td>2.0</td>\n",
       "      <td>510</td>\n",
       "      <td>...</td>\n",
       "      <td>0.0</td>\n",
       "      <td>Detached-001-Frame Construction</td>\n",
       "      <td>200</td>\n",
       "      <td>792.0</td>\n",
       "      <td>1496.0</td>\n",
       "      <td>792.0</td>\n",
       "      <td>704.0</td>\n",
       "      <td>0.0</td>\n",
       "      <td>NaN</td>\n",
       "      <td>NaN</td>\n",
       "    </tr>\n",
       "  </tbody>\n",
       "</table>\n",
       "<p>5 rows × 35 columns</p>\n",
       "</div>"
      ],
      "text/plain": [
       "        parcelid  year_built  attic_sqft  bsmt_sqft  live_sqft  sqft_flr1  \\\n",
       "0  0500002001300        1908           0        600       1080        600   \n",
       "1  0490003017100        1911         337        702       1789        750   \n",
       "2  0490003017200        1919         320        667       1680        681   \n",
       "3  0490003017300        1916         346        720       1826        760   \n",
       "4  0490003017400        1909           0        792       1496        792   \n",
       "\n",
       "   sqft_flr2  sqft_flrh  story_ht  prop_class_code  ... fireplaces  \\\n",
       "0        480          0       1.5              510  ...        0.0   \n",
       "1        702          0       2.0              520  ...        0.0   \n",
       "2        679          0       2.0              510  ...        0.0   \n",
       "3        720          0       2.0              510  ...        0.0   \n",
       "4        704          0       2.0              510  ...        0.0   \n",
       "\n",
       "                       garage_type garage_capacity  finished_sq_ft  \\\n",
       "0  Detached-001-Frame Construction             270           600.0   \n",
       "1  Detached-001-Frame Construction             324           750.0   \n",
       "2  Detached-001-Frame Construction             324           681.0   \n",
       "3                             None               0          1826.0   \n",
       "4  Detached-001-Frame Construction             200           792.0   \n",
       "\n",
       "   total_finish_area  first_floor_area half_floor_area finished_basement  \\\n",
       "0             1080.0             600.0           480.0               0.0   \n",
       "1             1789.0             750.0           702.0               0.0   \n",
       "2             1680.0             681.0           679.0               0.0   \n",
       "3             1826.0             760.0           720.0               0.0   \n",
       "4             1496.0             792.0           704.0               0.0   \n",
       "\n",
       "  initial_land_value initial_building_value  \n",
       "0                NaN                    NaN  \n",
       "1                NaN                    NaN  \n",
       "2                NaN                    NaN  \n",
       "3                NaN                    NaN  \n",
       "4                NaN                    NaN  \n",
       "\n",
       "[5 rows x 35 columns]"
      ]
     },
     "execution_count": 26,
     "metadata": {},
     "output_type": "execute_result"
    }
   ],
   "source": [
    "df.head()"
   ]
  },
  {
   "cell_type": "code",
   "execution_count": 27,
   "metadata": {},
   "outputs": [
    {
     "name": "stdout",
     "output_type": "stream",
     "text": [
      "There are 44 labeled observations\n"
     ]
    }
   ],
   "source": [
    "df_labeled = df[(df['initial_building_value'].isna() == False)]\n",
    "\n",
    "print(f\"There are {len(df_labeled)} labeled observations\")"
   ]
  },
  {
   "cell_type": "markdown",
   "metadata": {},
   "source": [
    "#### Distribution of outcome variable"
   ]
  },
  {
   "cell_type": "code",
   "execution_count": 29,
   "metadata": {},
   "outputs": [
    {
     "name": "stdout",
     "output_type": "stream",
     "text": [
      "Distribution of initial building value\n",
      "count       44.000000\n",
      "mean      4907.500000\n",
      "std       8600.816112\n",
      "min        630.000000\n",
      "25%       1967.500000\n",
      "50%       3320.000000\n",
      "75%       4327.500000\n",
      "max      56990.000000\n",
      "Name: initial_building_value, dtype: float64\n"
     ]
    },
    {
     "data": {
      "text/plain": [
       "[Text(0.5, 1.0, 'Histogram of initial_building_value')]"
      ]
     },
     "execution_count": 29,
     "metadata": {},
     "output_type": "execute_result"
    },
    {
     "data": {
      "image/png": "[encoded data removed]",
      "text/plain": [
       "<Figure size 720x432 with 1 Axes>"
      ]
     },
     "metadata": {
      "needs_background": "light"
     },
     "output_type": "display_data"
    }
   ],
   "source": [
    "# Distribution of the outcome variable\n",
    "print('Distribution of initial building value')\n",
    "print(df_labeled['initial_building_value'].describe())\n",
    "\n",
    "plt.figure(figsize=(10, 6))\n",
    "sns.histplot(df_labeled, x='initial_building_value').set(title='Histogram of initial_building_value')"
   ]
  },
  {
   "cell_type": "code",
   "execution_count": 44,
   "metadata": {},
   "outputs": [
    {
     "data": {
      "text/plain": [
       "year_built               -0.346381\n",
       "sale_price               -0.146771\n",
       "total_sales_records      -0.055197\n",
       "number_of_parcels        -0.006152\n",
       "sqft_flrh                 0.033065\n",
       "appraisal_area            0.099825\n",
       "attic_sqft                0.113886\n",
       "story_ht                  0.239144\n",
       "half_bath                 0.377836\n",
       "half_floor_area           0.575422\n",
       "sqft_flr2                 0.575422\n",
       "full_bath                 0.579347\n",
       "fireplaces                0.585936\n",
       "total_rooms               0.606266\n",
       "finished_basement         0.683294\n",
       "garage_capacity           0.689898\n",
       "total_finish_area         0.715678\n",
       "live_sqft                 0.715678\n",
       "sqft_flr1                 0.844025\n",
       "first_floor_area          0.844025\n",
       "bsmt_sqft                 0.885279\n",
       "finished_sq_ft            0.949319\n",
       "initial_land_value        0.961319\n",
       "initial_building_value    1.000000\n",
       "prop_class_code                NaN\n",
       "dtype: float64"
      ]
     },
     "execution_count": 44,
     "metadata": {},
     "output_type": "execute_result"
    }
   ],
   "source": [
    "## Correlations with other numeric variables\n",
    "df_labeled.corrwith(df['initial_building_value']).sort_values()"
   ]
  },
  {
   "cell_type": "markdown",
   "metadata": {},
   "source": [
    "### Simple models"
   ]
  },
  {
   "cell_type": "code",
   "execution_count": 45,
   "metadata": {},
   "outputs": [
    {
     "data": {
      "text/html": [
       "<table class=\"simpletable\">\n",
       "<caption>OLS Regression Results</caption>\n",
       "<tr>\n",
       "  <th>Dep. Variable:</th>    <td>initial_building_value</td> <th>  R-squared:         </th> <td>   0.919</td>\n",
       "</tr>\n",
       "<tr>\n",
       "  <th>Model:</th>                      <td>OLS</td>          <th>  Adj. R-squared:    </th> <td>   0.912</td>\n",
       "</tr>\n",
       "<tr>\n",
       "  <th>Method:</th>                <td>Least Squares</td>     <th>  F-statistic:       </th> <td>   150.4</td>\n",
       "</tr>\n",
       "<tr>\n",
       "  <th>Date:</th>                <td>Sat, 19 Nov 2022</td>    <th>  Prob (F-statistic):</th> <td>8.16e-22</td>\n",
       "</tr>\n",
       "<tr>\n",
       "  <th>Time:</th>                    <td>00:15:03</td>        <th>  Log-Likelihood:    </th> <td> -405.38</td>\n",
       "</tr>\n",
       "<tr>\n",
       "  <th>No. Observations:</th>         <td>    44</td>         <th>  AIC:               </th> <td>   818.8</td>\n",
       "</tr>\n",
       "<tr>\n",
       "  <th>Df Residuals:</th>             <td>    40</td>         <th>  BIC:               </th> <td>   825.9</td>\n",
       "</tr>\n",
       "<tr>\n",
       "  <th>Df Model:</th>                 <td>     3</td>         <th>                     </th>     <td> </td>   \n",
       "</tr>\n",
       "<tr>\n",
       "  <th>Covariance Type:</th>         <td>nonrobust</td>       <th>                     </th>     <td> </td>   \n",
       "</tr>\n",
       "</table>\n",
       "<table class=\"simpletable\">\n",
       "<tr>\n",
       "         <td></td>           <th>coef</th>     <th>std err</th>      <th>t</th>      <th>P>|t|</th>  <th>[0.025</th>    <th>0.975]</th>  \n",
       "</tr>\n",
       "<tr>\n",
       "  <th>Intercept</th>      <td>-6.397e+04</td> <td> 4.69e+04</td> <td>   -1.365</td> <td> 0.180</td> <td>-1.59e+05</td> <td> 3.07e+04</td>\n",
       "</tr>\n",
       "<tr>\n",
       "  <th>year_built</th>     <td>   31.7035</td> <td>   24.577</td> <td>    1.290</td> <td> 0.204</td> <td>  -17.968</td> <td>   81.375</td>\n",
       "</tr>\n",
       "<tr>\n",
       "  <th>finished_sq_ft</th> <td>    4.0086</td> <td>    0.522</td> <td>    7.674</td> <td> 0.000</td> <td>    2.953</td> <td>    5.064</td>\n",
       "</tr>\n",
       "<tr>\n",
       "  <th>bsmt_sqft</th>      <td>    3.0146</td> <td>    1.442</td> <td>    2.090</td> <td> 0.043</td> <td>    0.100</td> <td>    5.930</td>\n",
       "</tr>\n",
       "</table>\n",
       "<table class=\"simpletable\">\n",
       "<tr>\n",
       "  <th>Omnibus:</th>       <td>19.608</td> <th>  Durbin-Watson:     </th> <td>   2.255</td>\n",
       "</tr>\n",
       "<tr>\n",
       "  <th>Prob(Omnibus):</th> <td> 0.000</td> <th>  Jarque-Bera (JB):  </th> <td>  52.439</td>\n",
       "</tr>\n",
       "<tr>\n",
       "  <th>Skew:</th>          <td>-0.973</td> <th>  Prob(JB):          </th> <td>4.10e-12</td>\n",
       "</tr>\n",
       "<tr>\n",
       "  <th>Kurtosis:</th>      <td> 7.981</td> <th>  Cond. No.          </th> <td>3.45e+05</td>\n",
       "</tr>\n",
       "</table><br/><br/>Notes:<br/>[1] Standard Errors assume that the covariance matrix of the errors is correctly specified.<br/>[2] The condition number is large, 3.45e+05. This might indicate that there are<br/>strong multicollinearity or other numerical problems."
      ],
      "text/plain": [
       "<class 'statsmodels.iolib.summary.Summary'>\n",
       "\"\"\"\n",
       "                              OLS Regression Results                              \n",
       "==================================================================================\n",
       "Dep. Variable:     initial_building_value   R-squared:                       0.919\n",
       "Model:                                OLS   Adj. R-squared:                  0.912\n",
       "Method:                     Least Squares   F-statistic:                     150.4\n",
       "Date:                    Sat, 19 Nov 2022   Prob (F-statistic):           8.16e-22\n",
       "Time:                            00:15:03   Log-Likelihood:                -405.38\n",
       "No. Observations:                      44   AIC:                             818.8\n",
       "Df Residuals:                          40   BIC:                             825.9\n",
       "Df Model:                               3                                         \n",
       "Covariance Type:                nonrobust                                         \n",
       "==================================================================================\n",
       "                     coef    std err          t      P>|t|      [0.025      0.975]\n",
       "----------------------------------------------------------------------------------\n",
       "Intercept      -6.397e+04   4.69e+04     -1.365      0.180   -1.59e+05    3.07e+04\n",
       "year_built        31.7035     24.577      1.290      0.204     -17.968      81.375\n",
       "finished_sq_ft     4.0086      0.522      7.674      0.000       2.953       5.064\n",
       "bsmt_sqft          3.0146      1.442      2.090      0.043       0.100       5.930\n",
       "==============================================================================\n",
       "Omnibus:                       19.608   Durbin-Watson:                   2.255\n",
       "Prob(Omnibus):                  0.000   Jarque-Bera (JB):               52.439\n",
       "Skew:                          -0.973   Prob(JB):                     4.10e-12\n",
       "Kurtosis:                       7.981   Cond. No.                     3.45e+05\n",
       "==============================================================================\n",
       "\n",
       "Notes:\n",
       "[1] Standard Errors assume that the covariance matrix of the errors is correctly specified.\n",
       "[2] The condition number is large, 3.45e+05. This might indicate that there are\n",
       "strong multicollinearity or other numerical problems.\n",
       "\"\"\""
      ]
     },
     "execution_count": 45,
     "metadata": {},
     "output_type": "execute_result"
    }
   ],
   "source": [
    "# Linear regression\n",
    "import statsmodels.api as sm\n",
    "import statsmodels.formula.api as smf\n",
    "\n",
    "reg = smf.ols('initial_building_value ~ year_built + finished_sq_ft + bsmt_sqft', df_labeled).fit()\n",
    "reg.summary()"
   ]
  },
  {
   "cell_type": "code",
   "execution_count": null,
   "metadata": {},
   "outputs": [],
   "source": [
    "# Do a train-test split"
   ]
  }
 ],
 "metadata": {
  "kernelspec": {
   "display_name": "Python 3.8.8 ('base')",
   "language": "python",
   "name": "python3"
  },
  "language_info": {
   "codemirror_mode": {
    "name": "ipython",
    "version": 3
   },
   "file_extension": ".py",
   "mimetype": "text/x-python",
   "name": "python",
   "nbconvert_exporter": "python",
   "pygments_lexer": "ipython3",
   "version": "3.8.8"
  },
  "orig_nbformat": 4,
  "vscode": {
   "interpreter": {
    "hash": "47c626452ef4ef3e74376d35c302fcf9bdc1b9327d6e04736eb914a557504e89"
   }
  }
 },
 "nbformat": 4,
 "nbformat_minor": 2
}
